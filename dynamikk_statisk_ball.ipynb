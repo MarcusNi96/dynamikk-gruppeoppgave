{
 "cells": [
  {
   "cell_type": "markdown",
   "id": "e86e4b1f",
   "metadata": {},
   "source": [
    "# Utregning av utgangs-hastigheten for ballen"
   ]
  },
  {
   "cell_type": "markdown",
   "id": "f80d3b4a",
   "metadata": {},
   "source": [
    "## Vi begynner med å ta for oss rotasjonsdynamikkens grunnlov Sum of M = I * alfa\n",
    "- M = F*a, der vi har:\n",
    "- F = gjennomsnittlig fjærkraft vinkelrett på AC, påført som punktlast i punkt A. forenklet som en konstant (gjennomsnittet av maks og min fjærkraft) funnet i kapittel x.x.  F = 660 N\n",
    "- r: avstand fra rotasjonspunktet til kastearmen til punkt B har vi valgt som der ballen ligger stabilt idet kastearmen spennes opp for lading. Dette er målt til  r = 103 mm\n",
    "- Endret til tuppen av kastearmen, da dette blir utgangsposisjonen til balle: r = 320 mm\n",
    "- treghetsmomentet I funnet i Fusion, I = 0.0741 kg m^2. (Sett inn bilde i LaTex)\n",
    "- Tyngdekraftens påvirkning på ball og konstruksjonen er neglisjert"
   ]
  },
  {
   "cell_type": "code",
   "execution_count": 54,
   "id": "ed261331",
   "metadata": {},
   "outputs": [],
   "source": [
    "import numpy as np"
   ]
  },
  {
   "cell_type": "code",
   "execution_count": null,
   "id": "f42a1688",
   "metadata": {},
   "outputs": [],
   "source": [
    "#Definerer kjente variabler:\n",
    "F = 660 #N\n",
    "r = 0.320 #m\n",
    "avstand_AO = 0.125 #m   \n",
    "l = avstand_AO\n",
    "I = 0.0741 #kg * m^2\n",
    "\n",
    "#Beregner gjennomsnittlig moment fra fjæren\n",
    "M_gjennomsnitt = F * l\n",
    "\n"
   ]
  },
  {
   "cell_type": "code",
   "execution_count": null,
   "id": "59def5f0",
   "metadata": {},
   "outputs": [],
   "source": [
    "#Brukte tidligere feil verdi for I:\n",
    "# I = 0.052 #kg * m^2"
   ]
  },
  {
   "cell_type": "code",
   "execution_count": 57,
   "id": "eac0793f",
   "metadata": {},
   "outputs": [],
   "source": [
    "#Ser på forholdet ω_derivert = α, skriver disse bak øret:\n",
    "# ω(t) = ∫ α dt _t-0 = α*t\n",
    "# θ (t) = ∫ ω dt _t-0 = ∫ α*t dt = α*t^2/2\n",
    "\n",
    "# θ (t) = np.pi / 2\n",
    "#aka θ (t) = np.pi / 2 = α*t^2/2\n",
    "\n",
    "#Husker også\n",
    "#v = ω(t) * r"
   ]
  },
  {
   "cell_type": "code",
   "execution_count": 58,
   "id": "5ac4eb30",
   "metadata": {},
   "outputs": [
    {
     "name": "stdout",
     "output_type": "stream",
     "text": [
      " α = 1586.5 rad/s^2\n"
     ]
    }
   ],
   "source": [
    "α = M_gjennomsnitt / I\n",
    "print(f\" α = {α:.1f} rad/s^2\")"
   ]
  },
  {
   "cell_type": "code",
   "execution_count": null,
   "id": "2e62c66b",
   "metadata": {},
   "outputs": [
    {
     "name": "stdout",
     "output_type": "stream",
     "text": [
      "t =0.044\n"
     ]
    }
   ],
   "source": [
    "#Bruker sammenhengen vi skrev bak øret med α og θ\n",
    "θ = np.pi / 2  #= α*t^2/2, løser mtp t:\n",
    "t = np.sqrt(θ / (α/2))\n",
    "print(f\"t ={t:.3f}\")"
   ]
  },
  {
   "cell_type": "code",
   "execution_count": 60,
   "id": "75ec2fd8",
   "metadata": {},
   "outputs": [
    {
     "name": "stdout",
     "output_type": "stream",
     "text": [
      "ω = 70.6 rad/s\n"
     ]
    }
   ],
   "source": [
    "#Husker også\n",
    "ω = α * t   # ω(t):  t ved θ = pi/2\n",
    "print(f\"ω = {ω:.3} rad/s\")"
   ]
  },
  {
   "cell_type": "code",
   "execution_count": 61,
   "id": "4c13c371",
   "metadata": {},
   "outputs": [
    {
     "name": "stdout",
     "output_type": "stream",
     "text": [
      "Utgangshastighet v = 22.6 m/s \n"
     ]
    }
   ],
   "source": [
    "#dermed har vi funnet v ved v = ω * r\n",
    "v = ω * r\n",
    "print(f\"Utgangshastighet v = {v:.3} m/s \")"
   ]
  }
 ],
 "metadata": {
  "kernelspec": {
   "display_name": "Python 3",
   "language": "python",
   "name": "python3"
  },
  "language_info": {
   "codemirror_mode": {
    "name": "ipython",
    "version": 3
   },
   "file_extension": ".py",
   "mimetype": "text/x-python",
   "name": "python",
   "nbconvert_exporter": "python",
   "pygments_lexer": "ipython3",
   "version": "3.11.9"
  }
 },
 "nbformat": 4,
 "nbformat_minor": 5
}
